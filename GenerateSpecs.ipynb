{
 "cells": [
  {
   "cell_type": "code",
   "execution_count": 1,
   "id": "622b5462",
   "metadata": {},
   "outputs": [],
   "source": [
    "import os\n",
    "import librosa\n",
    "import numpy as np\n",
    "import librosa.display\n",
    "from matplotlib.backends.backend_agg import FigureCanvasAgg as FigureCanvas\n",
    "import matplotlib.pyplot as plt\n",
    "from PIL import Image\n",
    "\n",
    "from sklearn import metrics"
   ]
  },
  {
   "cell_type": "code",
   "execution_count": 2,
   "id": "32e42bb8",
   "metadata": {},
   "outputs": [],
   "source": [
    "#path = 'C://Users//maryp//OneDrive//Documents//GitHub//ThoatCancerClassification//AugmentedData//'\n",
    "# path=\"SVD//\"\n",
    "path = 'C://Users//maryp//OneDrive//Documents//CDT//Data//Mini Speech Commands//mini_speech_commands//'"
   ]
  },
  {
   "cell_type": "markdown",
   "id": "feb74140",
   "metadata": {},
   "source": [
    "# Log Spectrogram"
   ]
  },
  {
   "cell_type": "code",
   "execution_count": 6,
   "id": "f3e6993a",
   "metadata": {
    "scrolled": true
   },
   "outputs": [],
   "source": [
    "save_folder = 'commands_specs'\n",
    "for subdir, dirs, files in os.walk(path):\n",
    "    for file in files:\n",
    "        #Checks if file is a .wav file\n",
    "        if file.endswith('.wav'):\n",
    "            #Gets pathology from subfolder name\n",
    "            pathology = subdir.split('//')[-1]\n",
    "            new_row = [file, pathology]\n",
    "            #Loads audio file\n",
    "            save_path=save_folder+'//'+pathology+'//'\n",
    "            save_path=save_path+file.split('.')[0]+'.png'\n",
    "            if os.path.exists(save_path):\n",
    "                continue\n",
    "            try:\n",
    "                y, sr = librosa.load(subdir+'//'+file)\n",
    "            except:\n",
    "                print(pathology, file)\n",
    "                continue\n",
    "            #Creates log spectrogram\n",
    "            stft  = librosa.core.spectrum.stft(y)\n",
    "            out = 2 * np.abs(stft) / np.sum(y)\n",
    "            fig = plt.Figure()\n",
    "            canvas = FigureCanvas(fig)\n",
    "            ax = fig.add_subplot(111)\n",
    "            p = librosa.display.specshow(librosa.amplitude_to_db(out, ref=np.max), ax=ax, y_axis='log')\n",
    "            ax.axis('off')\n",
    "            #Defines save path\n",
    "            save_path=save_folder+'//'+pathology+'//'\n",
    "            #Creates savefolder if it does not exist\n",
    "            if not os.path.exists(save_path):\n",
    "                os.makedirs(save_path)\n",
    "            #Resizes and saves the image\n",
    "            save_path=save_path+file.split('.')[0]+'.png'\n",
    "            fig.savefig(save_path)\n",
    "            image = Image.open(save_path)\n",
    "            new_image = image.resize((224, 224))\n",
    "            new_image.save(save_path)"
   ]
  },
  {
   "cell_type": "code",
   "execution_count": null,
   "id": "843cd5d0",
   "metadata": {},
   "outputs": [],
   "source": [
    "file"
   ]
  },
  {
   "cell_type": "code",
   "execution_count": null,
   "id": "a3a765cf",
   "metadata": {},
   "outputs": [],
   "source": [
    "pathology"
   ]
  },
  {
   "cell_type": "code",
   "execution_count": null,
   "id": "8154babd",
   "metadata": {},
   "outputs": [],
   "source": [
    "fig = plt.Figure()\n",
    "p = librosa.display.specshow(librosa.amplitude_to_db(out, ref=np.max))"
   ]
  },
  {
   "cell_type": "code",
   "execution_count": null,
   "id": "70007ad0",
   "metadata": {},
   "outputs": [],
   "source": [
    "fig = plt.Figure()\n",
    "p = librosa.display.specshow(librosa.amplitude_to_db(out, ref=np.max), y_axis='log', x_axis='time')"
   ]
  },
  {
   "cell_type": "markdown",
   "id": "128c4a80",
   "metadata": {},
   "source": [
    "# Mel Spectrogram"
   ]
  },
  {
   "cell_type": "code",
   "execution_count": null,
   "id": "18cb4fa6",
   "metadata": {
    "scrolled": true
   },
   "outputs": [],
   "source": [
    "for subdir, dirs, files in os.walk(path):\n",
    "    for file in files:\n",
    "        pathology = subdir.split('//')[-1]\n",
    "        print(pathology, file)\n",
    "        new_row = [file, pathology]\n",
    "        y, sr = librosa.load(subdir+'//'+file)\n",
    "        S = librosa.feature.melspectrogram(y=y, sr=sr)\n",
    "        S_dB = librosa.power_to_db(S, ref=np.max)\n",
    "        fig = plt.Figure()\n",
    "        canvas = FigureCanvas(fig)\n",
    "        ax = fig.add_subplot(111)\n",
    "        img = librosa.display.specshow(S_dB, x_axis='time',\n",
    "                         y_axis='mel', sr=sr, ax=ax)\n",
    "        ax.axis('off')\n",
    "        save_path='MelSpectrogramsTrain//'+pathology+'//'+file.split('.')[0]+'.png'\n",
    "        fig.savefig(save_path)\n",
    "        image = Image.open(save_path)\n",
    "        new_image = image.resize((224, 224))\n",
    "        new_image.save(save_path)"
   ]
  },
  {
   "cell_type": "markdown",
   "id": "f9445167",
   "metadata": {},
   "source": [
    "# MFCC"
   ]
  },
  {
   "cell_type": "code",
   "execution_count": null,
   "id": "6041e8d5",
   "metadata": {
    "scrolled": true
   },
   "outputs": [],
   "source": [
    "for subdir, dirs, files in os.walk(path):\n",
    "    for file in files:\n",
    "        pathology = subdir.split('//')[-1]\n",
    "        print(pathology, file)\n",
    "        new_row = [file, pathology]\n",
    "        y, sr = librosa.load(subdir+'//'+file)\n",
    "        mfcc=librosa.feature.mfcc(y=y, sr=sr)\n",
    "        fig = plt.Figure()\n",
    "        canvas = FigureCanvas(fig)\n",
    "        ax = fig.add_subplot(111)\n",
    "        img = librosa.display.specshow(mfcc, x_axis='time', sr=sr, ax=ax)\n",
    "        ax.axis('off')\n",
    "        save_path='MFCC//'+pathology+'//'+file.split('.')[0]+'.png'\n",
    "        fig.savefig(save_path)\n",
    "        image = Image.open(save_path)\n",
    "        new_image = image.resize((224, 224))\n",
    "        new_image.save(save_path)"
   ]
  },
  {
   "cell_type": "code",
   "execution_count": null,
   "id": "0426bff8",
   "metadata": {},
   "outputs": [],
   "source": [
    "cnf=np.array([[20,6,12,12],[1,34,12,3],[28,58,116,28],[7,4,16,43]])"
   ]
  },
  {
   "cell_type": "code",
   "execution_count": null,
   "id": "d83d782a",
   "metadata": {},
   "outputs": [],
   "source": [
    "C = np.array([cnf.sum(axis=1)]).T\n",
    "C = cnf/C"
   ]
  },
  {
   "cell_type": "code",
   "execution_count": null,
   "id": "edf73d16",
   "metadata": {},
   "outputs": [],
   "source": [
    "disp = metrics.ConfusionMatrixDisplay(C, display_labels=['Cancer', 'Normal', 'Phonotrauma', 'Vocal palsy'])\n",
    "fig, ax = plt.subplots()\n",
    "ax.set_title('Classifier using spectrograms as input to GoogleNet')\n",
    "disp.plot(ax=ax)"
   ]
  },
  {
   "cell_type": "code",
   "execution_count": null,
   "id": "e8405e22",
   "metadata": {},
   "outputs": [],
   "source": []
  }
 ],
 "metadata": {
  "kernelspec": {
   "display_name": "Python 3 (ipykernel)",
   "language": "python",
   "name": "python3"
  },
  "language_info": {
   "codemirror_mode": {
    "name": "ipython",
    "version": 3
   },
   "file_extension": ".py",
   "mimetype": "text/x-python",
   "name": "python",
   "nbconvert_exporter": "python",
   "pygments_lexer": "ipython3",
   "version": "3.10.11"
  }
 },
 "nbformat": 4,
 "nbformat_minor": 5
}
