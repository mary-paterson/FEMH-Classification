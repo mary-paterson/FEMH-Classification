{
 "cells": [
  {
   "cell_type": "markdown",
   "id": "dc56941d",
   "metadata": {},
   "source": [
    "This code generates log spectrograms for all wav files within a directory. The spectrogams are saved as 224x224 images to be input into GoogLeNet. Simply change the path variable to the folder where the audio is stored. Change the save_folder variable to the folder in which you want the spectrograms to be saved."
   ]
  },
  {
   "cell_type": "code",
   "execution_count": 1,
   "id": "622b5462",
   "metadata": {},
   "outputs": [],
   "source": [
    "import os\n",
    "import librosa\n",
    "import numpy as np\n",
    "import librosa.display\n",
    "from matplotlib.backends.backend_agg import FigureCanvasAgg as FigureCanvas\n",
    "import matplotlib.pyplot as plt\n",
    "from PIL import Image\n",
    "\n",
    "from sklearn import metrics"
   ]
  },
  {
   "cell_type": "code",
   "execution_count": 2,
   "id": "32e42bb8",
   "metadata": {},
   "outputs": [],
   "source": [
    "#Change to where the audio is saved\n",
    "path = 'FEMH//'\n",
    "\n",
    "#Change to where you want the spectrograms to be saved\n",
    "save_folder = 'commands_specs'"
   ]
  },
  {
   "cell_type": "markdown",
   "id": "feb74140",
   "metadata": {},
   "source": [
    "# Log Spectrogram"
   ]
  },
  {
   "cell_type": "code",
   "execution_count": 6,
   "id": "f3e6993a",
   "metadata": {
    "scrolled": true
   },
   "outputs": [],
   "source": [
    "for subdir, dirs, files in os.walk(path):\n",
    "    for file in files:\n",
    "        #Checks if file is a .wav file\n",
    "        if file.endswith('.wav'):\n",
    "            #Gets pathology from subfolder name\n",
    "            pathology = subdir.split('//')[-1]\n",
    "            new_row = [file, pathology]\n",
    "            #Loads audio file\n",
    "            save_path=save_folder+'//'+pathology+'//'\n",
    "            save_path=save_path+file.split('.')[0]+'.png'\n",
    "            if os.path.exists(save_path):\n",
    "                continue\n",
    "            try:\n",
    "                y, sr = librosa.load(subdir+'//'+file)\n",
    "            except:\n",
    "                print(pathology, file)\n",
    "                continue\n",
    "            #Creates log spectrogram\n",
    "            stft  = librosa.core.spectrum.stft(y)\n",
    "            out = 2 * np.abs(stft) / np.sum(y)\n",
    "            fig = plt.Figure()\n",
    "            canvas = FigureCanvas(fig)\n",
    "            ax = fig.add_subplot(111)\n",
    "            p = librosa.display.specshow(librosa.amplitude_to_db(out, ref=np.max), ax=ax, y_axis='log')\n",
    "            ax.axis('off')\n",
    "            #Defines save path\n",
    "            save_path=save_folder+'//'+pathology+'//'\n",
    "            #Creates savefolder if it does not exist\n",
    "            if not os.path.exists(save_path):\n",
    "                os.makedirs(save_path)\n",
    "            #Resizes and saves the image\n",
    "            save_path=save_path+file.split('.')[0]+'.png'\n",
    "            fig.savefig(save_path)\n",
    "            image = Image.open(save_path)\n",
    "            new_image = image.resize((224, 224))\n",
    "            new_image.save(save_path)"
   ]
  }
 ],
 "metadata": {
  "kernelspec": {
   "display_name": "Python 3 (ipykernel)",
   "language": "python",
   "name": "python3"
  },
  "language_info": {
   "codemirror_mode": {
    "name": "ipython",
    "version": 3
   },
   "file_extension": ".py",
   "mimetype": "text/x-python",
   "name": "python",
   "nbconvert_exporter": "python",
   "pygments_lexer": "ipython3",
   "version": "3.9.16"
  }
 },
 "nbformat": 4,
 "nbformat_minor": 5
}
