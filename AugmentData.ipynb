{
 "cells": [
  {
   "cell_type": "code",
   "execution_count": 1,
   "id": "3acdbab0",
   "metadata": {},
   "outputs": [],
   "source": [
    "import numpy as np\n",
    "import os\n",
    "import librosa\n",
    "import soundfile"
   ]
  },
  {
   "cell_type": "code",
   "execution_count": 2,
   "id": "a54353e7",
   "metadata": {},
   "outputs": [],
   "source": [
    "path = 'Data//TrainSet//'\n",
    "save_path = 'AugmentedData//'"
   ]
  },
  {
   "cell_type": "code",
   "execution_count": null,
   "id": "9e6a8815",
   "metadata": {},
   "outputs": [],
   "source": [
    "for subdir, dirs, files in os.walk(path):\n",
    "    for file in files:\n",
    "        pathology = subdir.split('//')[-1]\n",
    "        filename = os.fsdecode(file)\n",
    "        if filename.endswith(\".mp3\") or filename.endswith(\".wav\"):\n",
    "            f_id = filename.split('.')[0]\n",
    "            file_type = filename.split('.')[-1]\n",
    "            y, sr = librosa.load(subdir+'//'+filename)\n",
    "            shift = np.random.normal(0, 0.5)\n",
    "            y_shifted = librosa.effects.pitch_shift(y, sr=sr, n_steps=shift)\n",
    "            new_file = f_id+'_pitch'+'.'+file_type\n",
    "            soundfile.write(save_path+pathology+'//'+new_file, y_shifted, sr)"
   ]
  },
  {
   "cell_type": "code",
   "execution_count": null,
   "id": "405575b6",
   "metadata": {},
   "outputs": [],
   "source": [
    "for subdir, dirs, files in os.walk(path):\n",
    "    for file in files:\n",
    "        pathology = subdir.split('//')[-1]\n",
    "        filename = os.fsdecode(file)\n",
    "        if filename.endswith(\".mp3\") or filename.endswith(\".wav\"):\n",
    "            f_id = filename.split('.')[0]\n",
    "            file_type = filename.split('.')[-1]\n",
    "            y, sr = librosa.load(subdir+'//'+filename)\n",
    "            noise=np.random.normal(0, 0.1, y.shape[0])\n",
    "            y_noisy = y+noise\n",
    "            new_file = f_id+'_white_noise.'+file_type\n",
    "            soundfile.write(save_path+pathology+'//'+new_file, y_noisy, sr)"
   ]
  }
 ],
 "metadata": {
  "kernelspec": {
   "display_name": "Python 3 (ipykernel)",
   "language": "python",
   "name": "python3"
  },
  "language_info": {
   "codemirror_mode": {
    "name": "ipython",
    "version": 3
   },
   "file_extension": ".py",
   "mimetype": "text/x-python",
   "name": "python",
   "nbconvert_exporter": "python",
   "pygments_lexer": "ipython3",
   "version": "3.9.16"
  }
 },
 "nbformat": 4,
 "nbformat_minor": 5
}
